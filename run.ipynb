{
 "cells": [
  {
   "cell_type": "code",
   "execution_count": null,
   "id": "19401d79",
   "metadata": {},
   "outputs": [],
   "source": [
    "%cd Bot_kilo\n",
    "\n",
    "!git pull https://github.com/Galjoentopper/Bot_kilo.git\n",
    "\n",
    "%pip install -r requirements.txt\n",
    "\n",
    "# Copy environment file if needed\n",
    "# %cp .env.example .env\n",
    "\n",
    "!python scripts/trainer.py --model all\n",
    "\n",
    "# Run the trading bot (uncomment when ready to trade)\n",
    "# !python scripts/trader.py --interval 15\n"
   ]
  }
 ],
 "metadata": {
  "kernelspec": {
   "display_name": "Python 3 (ipykernel)",
   "language": "python",
   "name": "python3"
  },
  "language_info": {
   "codemirror_mode": {
    "name": "ipython",
    "version": 3
   },
   "file_extension": ".py",
   "mimetype": "text/x-python",
   "name": "python",
   "nbconvert_exporter": "python",
   "pygments_lexer": "ipython3",
   "version": "3.11.7"
  }
 },
 "nbformat": 4,
 "nbformat_minor": 5
}

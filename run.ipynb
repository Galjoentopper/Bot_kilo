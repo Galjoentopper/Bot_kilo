{
 "cells": [
  {
   "cell_type": "code",
   "execution_count": null,
   "id": "6149220e",
   "metadata": {},
   "outputs": [],
   "source": [
    "%pip install -r requirements_Version2.txt"
   ]
  },
  {
   "cell_type": "code",
   "execution_count": null,
   "id": "5024de8c",
   "metadata": {},
   "outputs": [],
   "source": [
    "%cp .env.example .env"
   ]
  },
  {
   "cell_type": "code",
   "execution_count": null,
   "id": "713f201f",
   "metadata": {},
   "outputs": [],
   "source": [
    "!python scripts/trainer.py --model all"
   ]
  },
  {
   "cell_type": "code",
   "execution_count": null,
   "id": "19401d79",
   "metadata": {},
   "outputs": [],
   "source": [
    "!python scripts/trader.py --interval 15"
   ]
  }
 ],
 "metadata": {
  "kernelspec": {
   "display_name": "Python 3 (ipykernel)",
   "language": "python",
   "name": "python3"
  }
 },
 "nbformat": 4,
 "nbformat_minor": 5
}
